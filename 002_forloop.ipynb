{
 "cells": [
  {
   "cell_type": "code",
   "execution_count": 4,
   "metadata": {},
   "outputs": [
    {
     "name": "stdout",
     "output_type": "stream",
     "text": [
      "[0, 1, 2, 3, 4, 5, 6, 7, 8, 9]\n",
      "[10, 11, 12, 13, 14, 15, 16, 17, 18, 19, 20, 21, 22, 23, 24, 25, 26, 27, 28, 29]\n",
      "[10, 15, 20, 25]\n"
     ]
    }
   ],
   "source": [
    "# for loop\n",
    "\n",
    "# wap print multiplication table \n",
    "# 5  ==>\n",
    "'''\n",
    "5 * 1 = 5\n",
    "5 * 2 = 10\n",
    "5 * 3 = 15\n",
    "\n",
    "'''\n",
    "print range(10)\n",
    "print range(10,30)\n",
    "print range(10,30,5)"
   ]
  },
  {
   "cell_type": "code",
   "execution_count": 5,
   "metadata": {},
   "outputs": [
    {
     "name": "stdout",
     "output_type": "stream",
     "text": [
      "enter N : 5\n",
      "5  *  1  =  5\n",
      "5  *  2  =  10\n",
      "5  *  3  =  15\n",
      "5  *  4  =  20\n",
      "5  *  5  =  25\n",
      "5  *  6  =  30\n",
      "5  *  7  =  35\n",
      "5  *  8  =  40\n",
      "5  *  9  =  45\n",
      "5  *  10  =  50\n",
      "No more upadtes\n",
      "Task over\n"
     ]
    }
   ],
   "source": [
    "N =input(\"enter N : \")\n",
    "for var in range(1,11):\n",
    "    print N,\" * \",var,\" = \",var*N\n",
    "else:\n",
    "    print \"No more upadtes\"\n",
    "print \"Task over\""
   ]
  },
  {
   "cell_type": "code",
   "execution_count": 6,
   "metadata": {},
   "outputs": [
    {
     "name": "stdout",
     "output_type": "stream",
     "text": [
      "enter N : 10\n",
      "0    1    1    2    3    5    8    13    21    34   \n"
     ]
    }
   ],
   "source": [
    "# wap find the no of fibonic elements\n",
    "# 0  1   1   2  3  5  8  13   21   34\n",
    "N = input(\"enter N : \")\n",
    "a =0\n",
    "b = 1\n",
    "for i in range(N):\n",
    "    print a,\"  \",\n",
    "    c = a+b\n",
    "    a = b\n",
    "    b =c\n",
    "    "
   ]
  },
  {
   "cell_type": "code",
   "execution_count": 7,
   "metadata": {},
   "outputs": [
    {
     "name": "stdout",
     "output_type": "stream",
     "text": [
      "enter N : 3\n",
      "sqr_sum - sum_sqr =  -22\n"
     ]
    }
   ],
   "source": [
    "# wap find difference sqrs of sum of 1st N natural numbers and sum of sqrs of 1st\n",
    "# n natural numbers \n",
    "\n",
    "# (1**2  + 2 ** 2 + 3**2+4**2 +-----n**2) - ( 1+2+3+4+5+------n)**2\n",
    "\n",
    "N =input(\"enter N : \")\n",
    "sqr_sum =0\n",
    "sum_sqr = 0\n",
    "for var in range(1,N+1):\n",
    "    sqr_sum = sqr_sum + (var**2)\n",
    "    sum_sqr = sum_sqr +var\n",
    "sum_sqr = sum_sqr ** 2\n",
    "print \"sqr_sum - sum_sqr = \",sqr_sum - sum_sqr\n"
   ]
  },
  {
   "cell_type": "code",
   "execution_count": null,
   "metadata": {},
   "outputs": [],
   "source": [
    "# wap fins "
   ]
  }
 ],
 "metadata": {
  "kernelspec": {
   "display_name": "Python 2",
   "language": "python",
   "name": "python2"
  },
  "language_info": {
   "codemirror_mode": {
    "name": "ipython",
    "version": 2
   },
   "file_extension": ".py",
   "mimetype": "text/x-python",
   "name": "python",
   "nbconvert_exporter": "python",
   "pygments_lexer": "ipython2",
   "version": "2.7.16"
  }
 },
 "nbformat": 4,
 "nbformat_minor": 2
}
