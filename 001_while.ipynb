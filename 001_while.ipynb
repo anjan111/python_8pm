{
 "cells": [
  {
   "cell_type": "code",
   "execution_count": 1,
   "metadata": {},
   "outputs": [
    {
     "name": "stdout",
     "output_type": "stream",
     "text": [
      "enter N : 5\n",
      "***** 1 time *******\n",
      "name : anjan kumar\n",
      "mail : anja@gmail.com\n",
      "phone : 9640 987 960 \n",
      "***** 2 time *******\n",
      "name : anjan kumar\n",
      "mail : anja@gmail.com\n",
      "phone : 9640 987 960 \n",
      "***** 3 time *******\n",
      "name : anjan kumar\n",
      "mail : anja@gmail.com\n",
      "phone : 9640 987 960 \n",
      "***** 4 time *******\n",
      "name : anjan kumar\n",
      "mail : anja@gmail.com\n",
      "phone : 9640 987 960 \n",
      "***** 5 time *******\n",
      "name : anjan kumar\n",
      "mail : anja@gmail.com\n",
      "phone : 9640 987 960 \n",
      "**** condition was failed ******* \n",
      "Task over \n"
     ]
    }
   ],
   "source": [
    "# wap print your details 10 times \n",
    "N = input(\"enter N : \")\n",
    "I = 1\n",
    "while(I <= N):\n",
    "    print \"*****\",I,\"time *******\"\n",
    "    print \"name : anjan kumar\"\n",
    "    print \"mail : anja@gmail.com\"\n",
    "    print \"phone : 9640 987 960 \"\n",
    "    I = I +1\n",
    "else:\n",
    "    print\"**** condition was failed ******* \"\n",
    "print \"Task over \"\n",
    "    "
   ]
  },
  {
   "cell_type": "code",
   "execution_count": 3,
   "metadata": {},
   "outputs": [
    {
     "name": "stdout",
     "output_type": "stream",
     "text": [
      "enter atm passwor : \"KJASAKDHSJ\"\n",
      "password is not matched: \n",
      "enter atm passwor : \"JDHFHDGJ\"\n",
      "password is not matched: \n",
      "enter atm passwor : \"MAMMYdaddy9\"\n",
      "password is matched\n",
      "Task over\n"
     ]
    }
   ],
   "source": [
    "# wap repeate enter a atm passworn until it match old password\n",
    "# break is a keyword is used for to stop the loop\n",
    "old_pass=\"MAMMYdaddy9\"\n",
    "while(True):\n",
    "    new_pass = input(\"enter atm passwor : \")\n",
    "    \n",
    "    if(new_pass == old_pass):\n",
    "        print(\"password is matched\")\n",
    "        break\n",
    "    print(\"password is not matched: \")\n",
    "else:\n",
    "    print \"it never execcuted\"\n",
    "print\"Task over\""
   ]
  },
  {
   "cell_type": "code",
   "execution_count": 5,
   "metadata": {},
   "outputs": [
    {
     "name": "stdout",
     "output_type": "stream",
     "text": [
      "enter N : 5\n",
      "factorial of  1  is  120\n"
     ]
    }
   ],
   "source": [
    "# wap find the factorial of a number\n",
    "# 5 ===>> 5*4*3*2*1 ===>> 120\n",
    "N = input(\"enter N : \")\n",
    "fact=1\n",
    "while(N >=2):\n",
    "    fact = fact*N\n",
    "    N=N-1\n",
    "else:\n",
    "    print \"factorial of \",N,\" is \",fact"
   ]
  },
  {
   "cell_type": "code",
   "execution_count": null,
   "metadata": {},
   "outputs": [],
   "source": [
    "#wap find the number of digits in a number \n",
    "# 5672 ===>> 4\n"
   ]
  },
  {
   "cell_type": "code",
   "execution_count": null,
   "metadata": {},
   "outputs": [],
   "source": [
    "# wap find the sum of digits in a number\n",
    "# 342 ===>> 9\n"
   ]
  },
  {
   "cell_type": "code",
   "execution_count": null,
   "metadata": {},
   "outputs": [],
   "source": [
    "# wap reverse of a number \n",
    "# 783 ===>> 387"
   ]
  }
 ],
 "metadata": {
  "kernelspec": {
   "display_name": "Python 2",
   "language": "python",
   "name": "python2"
  },
  "language_info": {
   "codemirror_mode": {
    "name": "ipython",
    "version": 2
   },
   "file_extension": ".py",
   "mimetype": "text/x-python",
   "name": "python",
   "nbconvert_exporter": "python",
   "pygments_lexer": "ipython2",
   "version": "2.7.16"
  }
 },
 "nbformat": 4,
 "nbformat_minor": 2
}
