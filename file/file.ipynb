{
 "cells": [
  {
   "cell_type": "code",
   "execution_count": 4,
   "metadata": {},
   "outputs": [
    {
     "name": "stdout",
     "output_type": "stream",
     "text": [
      "enter some data : '784554'\n"
     ]
    }
   ],
   "source": [
    "#open(arg1,arg2)\n",
    "'''\n",
    "arg1 ====>> file name with path\n",
    "arg2 ====>> mode of operation\n",
    "\n",
    "write :\n",
    "\n",
    "    ===>> if the file not existed then creates the new file \n",
    "    ===>> file is existed with some data , the conent of the file can lost\n",
    "    \n",
    "    \"w \": write  only\n",
    "    \n",
    "    \"w+\" : write + read \n",
    "\n",
    "append :\n",
    "\n",
    "    ===>> if the file not existed then creates the new file \n",
    "    ===>> file is existed with some data , the conent of the file can safe\n",
    "    \n",
    "    \"a\": write\n",
    "    \"a+\": write + read\n",
    "\n",
    "read :\n",
    "\n",
    "    ==>>> if the file is not existed , then its a error\n",
    "    ==>>> file is existed with some data , the data can safe\n",
    "    \n",
    "    \"r\" : only for reading \n",
    "    \"r+\" : read + write\n",
    "\n",
    "'''\n",
    "\n",
    "fo = open(\"sample.txt\",\"w\")\n",
    "data = input(\"enter some data : \")\n",
    "fo.write(data)\n",
    "#fo.read()\n",
    "fo.close()"
   ]
  },
  {
   "cell_type": "code",
   "execution_count": 6,
   "metadata": {},
   "outputs": [
    {
     "name": "stdout",
     "output_type": "stream",
     "text": [
      "enter some data : \"7878787\"\n",
      "7878787\n"
     ]
    }
   ],
   "source": [
    "fo = open(\"sample.txt\",\"w+\")\n",
    "data = input(\"enter some data : \")\n",
    "fo.write(data)\n",
    "fo.seek(0,0)\n",
    "print fo.read()\n",
    "fo.close()"
   ]
  },
  {
   "cell_type": "code",
   "execution_count": 7,
   "metadata": {},
   "outputs": [
    {
     "name": "stdout",
     "output_type": "stream",
     "text": [
      "enter some data : \"anjan kumar\"\n"
     ]
    }
   ],
   "source": [
    "fo = open(\"sample.txt\",\"a\")\n",
    "data = input(\"enter some data : \")\n",
    "fo.write(data)\n",
    "#fo.read()\n",
    "fo.close()"
   ]
  },
  {
   "cell_type": "code",
   "execution_count": 8,
   "metadata": {},
   "outputs": [
    {
     "name": "stdout",
     "output_type": "stream",
     "text": [
      "enter some data : \"123123\"\n",
      "7878787anjan kumar123123\n"
     ]
    }
   ],
   "source": [
    "fo = open(\"sample.txt\",\"a+\")\n",
    "data = input(\"enter some data : \")\n",
    "fo.write(data)\n",
    "fo.seek(0,0)\n",
    "print fo.read()\n",
    "fo.close()"
   ]
  },
  {
   "cell_type": "code",
   "execution_count": 10,
   "metadata": {},
   "outputs": [
    {
     "name": "stdout",
     "output_type": "stream",
     "text": [
      "8787anjan kumar123123\n"
     ]
    }
   ],
   "source": [
    "fo = open(\"sample.txt\",\"a+\")\n",
    "#data = input(\"enter some data : \")\n",
    "#fo.write(data)\n",
    "fo.seek(3,0)\n",
    "print fo.read()\n",
    "fo.close()"
   ]
  },
  {
   "cell_type": "code",
   "execution_count": 15,
   "metadata": {},
   "outputs": [
    {
     "name": "stdout",
     "output_type": "stream",
     "text": [
      "0\n",
      "enter some data : \"anjan\"\n",
      "32\n",
      "jan\n"
     ]
    }
   ],
   "source": [
    "fo = open(\"sample.txt\",\"a+\")\n",
    "print fo.tell() # 0\n",
    "data = input(\"enter some data : \")\n",
    "fo.write(data)\n",
    "print fo.tell() # end of the file\n",
    "fo.seek(-3,1)\n",
    "print fo.read()\n",
    "fo.close()"
   ]
  },
  {
   "cell_type": "code",
   "execution_count": null,
   "metadata": {},
   "outputs": [],
   "source": []
  }
 ],
 "metadata": {
  "kernelspec": {
   "display_name": "Python 2",
   "language": "python",
   "name": "python2"
  },
  "language_info": {
   "codemirror_mode": {
    "name": "ipython",
    "version": 2
   },
   "file_extension": ".py",
   "mimetype": "text/x-python",
   "name": "python",
   "nbconvert_exporter": "python",
   "pygments_lexer": "ipython2",
   "version": "2.7.16"
  }
 },
 "nbformat": 4,
 "nbformat_minor": 2
}
