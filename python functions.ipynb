{
 "cells": [
  {
   "cell_type": "code",
   "execution_count": 2,
   "metadata": {},
   "outputs": [
    {
     "name": "stdout",
     "output_type": "stream",
     "text": [
      "anjan\n",
      "9640987960\n",
      "*****\n",
      "anjan\n",
      "9640987960\n"
     ]
    }
   ],
   "source": [
    "# function  :-\n",
    "\n",
    "'''\n",
    "===>> set of instructions to do any one spefic task\n",
    "===>> program is a collection of functions\n",
    "===>> function is a sub program of any program\n",
    "'''\n",
    "# function componets \n",
    "'''\n",
    "===>> There are 2 types components \n",
    "\n",
    "1. function defination ===> collection of statements\n",
    "\n",
    "    ===>> function header  ====>> def   function_name( formal_arg1, formal_arg2---):\n",
    "    ===>> function body    ====>>         statements \n",
    "\n",
    "2. function call  ====>> to execute function defination\n",
    "\n",
    "'''\n",
    "\n",
    "# importqanace \n",
    "\n",
    "'''\n",
    "===>> Reduce the code \n",
    "===>> Easy to understand the program\n",
    "===>> reusebility\n",
    "\n",
    "'''\n",
    "# function defination\n",
    "\n",
    "def Fun_name():\n",
    "    print \"anjan\"\n",
    "    print \"9640987960\"\n",
    "\n",
    "# function call\n",
    "Fun_name()\n",
    "print \"*****\"\n",
    "Fun_name()"
   ]
  },
  {
   "cell_type": "code",
   "execution_count": 3,
   "metadata": {},
   "outputs": [
    {
     "name": "stdout",
     "output_type": "stream",
     "text": [
      "res :  30\n",
      "enter x : 4\n",
      "enter y : 4\n",
      "res :  8\n",
      "res :  52\n"
     ]
    }
   ],
   "source": [
    "# arguments :-\n",
    "'''\n",
    "====>>> which are used for to send data from function call to function defination\n",
    "\n",
    "====>>> there are 2 types \n",
    "    \n",
    "        1. actual arguments ===>>> argumnets at function call ( constants , variable, expression)\n",
    "        2. formal arguments ===>>> arguement at function defination  ( variables ) ==> copy of actual arguments\n",
    "'''\n",
    "def add(a,b):\n",
    "    res = a+b\n",
    "    print \"res : \",res\n",
    "add(10,20)\n",
    "x= input(\"enter x : \")\n",
    "y= input(\"enter y : \")\n",
    "add(x,y)\n",
    "add(x*y+20 , y+x*3)"
   ]
  },
  {
   "cell_type": "code",
   "execution_count": 5,
   "metadata": {},
   "outputs": [
    {
     "name": "stdout",
     "output_type": "stream",
     "text": [
      "r :  None\n",
      "r1 :  None\n"
     ]
    }
   ],
   "source": [
    "# return \n",
    "'''\n",
    "==> to send the daata from function defination to function call\n",
    "==> to terminate the function defination\n",
    "\n",
    "'''\n",
    "def sub():\n",
    "    return\n",
    "    x = input(\"enter x \")\n",
    "    y = input(\"enter y \")\n",
    "    res =  x-y\n",
    "    return x+y\n",
    "r = sub()\n",
    "print \"r : \",r\n",
    "r1 =sub()\n",
    "print \"r1 : \",r1\n",
    "    "
   ]
  },
  {
   "cell_type": "code",
   "execution_count": 6,
   "metadata": {},
   "outputs": [
    {
     "name": "stdout",
     "output_type": "stream",
     "text": [
      "10\n",
      "20\n"
     ]
    },
    {
     "ename": "TypeError",
     "evalue": "fun() takes exactly 2 arguments (1 given)",
     "output_type": "error",
     "traceback": [
      "\u001b[1;31m---------------------------------------------------------------------------\u001b[0m",
      "\u001b[1;31mTypeError\u001b[0m                                 Traceback (most recent call last)",
      "\u001b[1;32m<ipython-input-6-290e2079e370>\u001b[0m in \u001b[0;36m<module>\u001b[1;34m()\u001b[0m\n\u001b[0;32m      4\u001b[0m     \u001b[1;32mprint\u001b[0m \u001b[0mb\u001b[0m\u001b[1;33m\u001b[0m\u001b[0m\n\u001b[0;32m      5\u001b[0m \u001b[0mfun\u001b[0m\u001b[1;33m(\u001b[0m\u001b[1;36m10\u001b[0m\u001b[1;33m,\u001b[0m\u001b[1;36m20\u001b[0m\u001b[1;33m)\u001b[0m\u001b[1;33m\u001b[0m\u001b[0m\n\u001b[1;32m----> 6\u001b[1;33m \u001b[0mfun\u001b[0m\u001b[1;33m(\u001b[0m\u001b[1;36m10\u001b[0m\u001b[1;33m)\u001b[0m\u001b[1;33m\u001b[0m\u001b[0m\n\u001b[0m\u001b[0;32m      7\u001b[0m \u001b[0mfun\u001b[0m\u001b[1;33m(\u001b[0m\u001b[1;33m)\u001b[0m\u001b[1;33m\u001b[0m\u001b[0m\n",
      "\u001b[1;31mTypeError\u001b[0m: fun() takes exactly 2 arguments (1 given)"
     ]
    }
   ],
   "source": [
    "# default arguments\n",
    "def fun(a,b):\n",
    "    print a\n",
    "    print b\n",
    "fun(10,20)\n",
    "fun(10)\n",
    "fun()"
   ]
  },
  {
   "cell_type": "code",
   "execution_count": 8,
   "metadata": {},
   "outputs": [
    {
     "name": "stdout",
     "output_type": "stream",
     "text": [
      "10\n",
      "20\n",
      "10\n",
      "None\n",
      "None\n",
      "None\n"
     ]
    }
   ],
   "source": [
    "# default arguments\n",
    "def fun(a=None,b=None):\n",
    "    print a\n",
    "    print b\n",
    "fun(10,20)\n",
    "fun(10)\n",
    "fun()"
   ]
  },
  {
   "cell_type": "code",
   "execution_count": 15,
   "metadata": {},
   "outputs": [
    {
     "name": "stdout",
     "output_type": "stream",
     "text": [
      "458\n",
      "123\n"
     ]
    }
   ],
   "source": [
    "#global varibale and local arguemnt\n",
    "'''\n",
    "local variables ====>> the scope and life time inside of the blocks \n",
    "\n",
    "===>> we have define the inside of the block\n",
    "\n",
    "global variables ===>>  the scope and life time throughout of program\n",
    "\n",
    "===>> we can define outside of the block  ===>>default it was global variable\n",
    "===>> we can define inside of the blocks ===>>> global keyword\n",
    "\n",
    "'''\n",
    "var = 123  # default it was gloabl variable\n",
    "def fun():\n",
    "    var =458  # local variable\n",
    "    print var\n",
    "    var =245\n",
    "fun()\n",
    "print var"
   ]
  },
  {
   "cell_type": "code",
   "execution_count": 16,
   "metadata": {},
   "outputs": [
    {
     "name": "stdout",
     "output_type": "stream",
     "text": [
      "458\n",
      "245\n"
     ]
    }
   ],
   "source": [
    "var = 123  # default it was gloabl variable\n",
    "def fun():\n",
    "    global var\n",
    "    var =458  \n",
    "    print var\n",
    "    var =245\n",
    "fun()\n",
    "print var"
   ]
  }
 ],
 "metadata": {
  "kernelspec": {
   "display_name": "Python 2",
   "language": "python",
   "name": "python2"
  },
  "language_info": {
   "codemirror_mode": {
    "name": "ipython",
    "version": 2
   },
   "file_extension": ".py",
   "mimetype": "text/x-python",
   "name": "python",
   "nbconvert_exporter": "python",
   "pygments_lexer": "ipython2",
   "version": "2.7.16"
  }
 },
 "nbformat": 4,
 "nbformat_minor": 2
}
