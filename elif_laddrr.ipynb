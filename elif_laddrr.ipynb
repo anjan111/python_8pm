{
 "cells": [
  {
   "cell_type": "code",
   "execution_count": 8,
   "metadata": {},
   "outputs": [
    {
     "name": "stdout",
     "output_type": "stream",
     "text": [
      "enter no of years of exp : 5\n",
      "8 lac PA\n"
     ]
    }
   ],
   "source": [
    "# wap find the salary based on exp \n",
    "\n",
    "exp = input(\"enter no of years of exp : \")\n",
    "if(exp >= 0 and  exp < 2):\n",
    "    print \"3 lac PA\"\n",
    "elif(exp >= 2 and exp < 4):\n",
    "    print \"6 lac PA \"\n",
    "elif(exp >= 4 and exp < 6):\n",
    "    print \"8 lac PA\"\n",
    "elif (exp >= 6):\n",
    "    print \"10 lac\"\n",
    "else:\n",
    "    print \"enter proper exp\""
   ]
  },
  {
   "cell_type": "code",
   "execution_count": 9,
   "metadata": {},
   "outputs": [
    {
     "name": "stdout",
     "output_type": "stream",
     "text": [
      "enter a : 45\n",
      "enter b : 89\n",
      "enter c : 56\n",
      "big =  89\n"
     ]
    }
   ],
   "source": [
    "# nested if \n",
    "'''\n",
    "A block it contains one more block\n",
    "\n",
    "'''\n",
    "# wap find the biggest number from 3 numbers\n",
    "\n",
    "a =input(\"enter a : \")\n",
    "b = input(\"enter b : \")\n",
    "c = input(\"enter c : \")\n",
    "if(a < b ):\n",
    "    if(a < c):\n",
    "        big = c\n",
    "    else:\n",
    "        big = a\n",
    "else:\n",
    "    if( b < c):\n",
    "        big = c\n",
    "    else:\n",
    "        big =b\n",
    "print \"big = \",b"
   ]
  }
 ],
 "metadata": {
  "kernelspec": {
   "display_name": "Python 2",
   "language": "python",
   "name": "python2"
  },
  "language_info": {
   "codemirror_mode": {
    "name": "ipython",
    "version": 2
   },
   "file_extension": ".py",
   "mimetype": "text/x-python",
   "name": "python",
   "nbconvert_exporter": "python",
   "pygments_lexer": "ipython2",
   "version": "2.7.16"
  }
 },
 "nbformat": 4,
 "nbformat_minor": 2
}
