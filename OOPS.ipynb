{
 "cells": [
  {
   "cell_type": "code",
   "execution_count": 3,
   "metadata": {},
   "outputs": [
    {
     "name": "stdout",
     "output_type": "stream",
     "text": [
      "None\n",
      "None\n",
      "None\n",
      "None\n"
     ]
    }
   ],
   "source": [
    "# create a student class ==>> name  , roll \n",
    "class  Student():\n",
    "    name = None\n",
    "    roll = None\n",
    "std1 = Student()\n",
    "std2 = Student()\n",
    "print std1.name\n",
    "print std1.roll\n",
    "print std2.name\n",
    "print std2.roll"
   ]
  },
  {
   "cell_type": "code",
   "execution_count": 4,
   "metadata": {},
   "outputs": [
    {
     "name": "stdout",
     "output_type": "stream",
     "text": [
      "None\n",
      "None\n",
      "None\n",
      "None\n",
      "Anusha\n",
      "S27\n",
      "Azar\n",
      "S28\n"
     ]
    }
   ],
   "source": [
    "class  Student():\n",
    "    name = None\n",
    "    roll = None\n",
    "std1 = Student()\n",
    "std2 = Student()\n",
    "print std1.name\n",
    "print std1.roll\n",
    "print std2.name\n",
    "print std2.roll\n",
    "std1.name =\"Anusha\"\n",
    "std1.roll =\"S27\"\n",
    "std2.name =\"Azar\"\n",
    "std2.roll =\"S28\"\n",
    "print std1.name\n",
    "print std1.roll\n",
    "print std2.name\n",
    "print std2.roll"
   ]
  },
  {
   "cell_type": "code",
   "execution_count": 5,
   "metadata": {},
   "outputs": [
    {
     "name": "stdout",
     "output_type": "stream",
     "text": [
      "name :  None\n",
      "roll :  None\n",
      "name :  None\n",
      "roll :  None\n",
      "enter name : \"anusha\"\n",
      "enter roll\"S27\"\n",
      "enter name : \"Azhar\"\n",
      "enter roll\"S28\"\n",
      "name :  anusha\n",
      "roll :  S27\n",
      "name :  Azhar\n",
      "roll :  S28\n"
     ]
    }
   ],
   "source": [
    "class  Student():\n",
    "    name = None\n",
    "    roll = None\n",
    "    def setting(self):\n",
    "        self.name = input(\"enter name : \")\n",
    "        self.roll = input(\"enter roll\")\n",
    "    def printing(self):\n",
    "        print \"name : \",self.name\n",
    "        print \"roll : \",self.roll\n",
    "std1 = Student()\n",
    "std2 = Student()\n",
    "std1.printing()\n",
    "std2.printing()\n",
    "std1.setting()\n",
    "std2.setting()\n",
    "std1.printing()\n",
    "std2.printing()"
   ]
  },
  {
   "cell_type": "code",
   "execution_count": null,
   "metadata": {},
   "outputs": [],
   "source": []
  },
  {
   "cell_type": "code",
   "execution_count": null,
   "metadata": {},
   "outputs": [],
   "source": []
  }
 ],
 "metadata": {
  "kernelspec": {
   "display_name": "Python 2",
   "language": "python",
   "name": "python2"
  },
  "language_info": {
   "codemirror_mode": {
    "name": "ipython",
    "version": 2
   },
   "file_extension": ".py",
   "mimetype": "text/x-python",
   "name": "python",
   "nbconvert_exporter": "python",
   "pygments_lexer": "ipython2",
   "version": "2.7.16"
  }
 },
 "nbformat": 4,
 "nbformat_minor": 2
}
