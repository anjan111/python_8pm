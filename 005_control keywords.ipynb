{
 "cells": [
  {
   "cell_type": "code",
   "execution_count": 2,
   "metadata": {},
   "outputs": [
    {
     "name": "stdout",
     "output_type": "stream",
     "text": [
      "1\n",
      "2\n",
      "3\n",
      "4\n",
      "5\n"
     ]
    }
   ],
   "source": [
    "# break ===>>> to terminate the loop\n",
    "# print 1 to 10  but when 5 is printed then stop the loop\n",
    "\n",
    "for var in range(1,11):\n",
    "    print var\n",
    "    if(var == 5):\n",
    "        break"
   ]
  },
  {
   "cell_type": "code",
   "execution_count": 3,
   "metadata": {},
   "outputs": [
    {
     "name": "stdout",
     "output_type": "stream",
     "text": [
      "1\n",
      "2\n",
      "3\n",
      "4\n",
      "6\n",
      "7\n",
      "8\n",
      "9\n",
      "10\n"
     ]
    }
   ],
   "source": [
    "# continue ===> to skip specific interation and continue the next iteration\n",
    "# wap print 1 to 10 but skip 5\n",
    "for var in range(1,11):\n",
    "    if(var == 5):\n",
    "        continue\n",
    "    print var"
   ]
  },
  {
   "cell_type": "code",
   "execution_count": 5,
   "metadata": {},
   "outputs": [],
   "source": [
    "# pass ===> to create the dummy / empty block\n",
    "\n",
    "for var in range(10):\n",
    "    pass"
   ]
  },
  {
   "cell_type": "code",
   "execution_count": 9,
   "metadata": {},
   "outputs": [
    {
     "name": "stdout",
     "output_type": "stream",
     "text": [
      "prime :  23\n",
      "prime :  29\n",
      "prime :  31\n",
      "prime :  37\n"
     ]
    }
   ],
   "source": [
    "# nested loop====>  A loop is contains another loop\n",
    "# wap find the prime numbers in between 20 to 40\n",
    "for num in range(20,41):\n",
    "    for var in range(2,num):\n",
    "        if(num % var == 0):\n",
    "            break\n",
    "    else:\n",
    "        print \"prime : \",num\n",
    "        "
   ]
  },
  {
   "cell_type": "code",
   "execution_count": 12,
   "metadata": {},
   "outputs": [
    {
     "name": "stdout",
     "output_type": "stream",
     "text": [
      "*   \n",
      "*   *   \n",
      "*   *   *   \n",
      "*   *   *   *   \n",
      "*   *   *   *   *   \n"
     ]
    }
   ],
   "source": [
    "#  generate the following pattern\n",
    "'''\n",
    "*\n",
    "*  *\n",
    "*  *  *\n",
    "*  *  *  *\n",
    "*  *  *  *  *\n",
    "'''\n",
    "row =5\n",
    "for r in range(1,row+1):\n",
    "    for c in range(r):\n",
    "        print\"*\",\" \",\n",
    "    print \"\""
   ]
  },
  {
   "cell_type": "code",
   "execution_count": null,
   "metadata": {},
   "outputs": [],
   "source": [
    "*  *   *   *  *\n",
    "*  *   *   * \n",
    "*  *   *   \n",
    "*  *\n",
    "*"
   ]
  },
  {
   "cell_type": "code",
   "execution_count": 15,
   "metadata": {},
   "outputs": [
    {
     "data": {
      "text/plain": [
       "'\\n      *\\n    * * *\\n  * * * * *\\n* * * * * * *\\n'"
      ]
     },
     "execution_count": 15,
     "metadata": {},
     "output_type": "execute_result"
    }
   ],
   "source": [
    "\n",
    "      *\n",
    "    * * *\n",
    "  * * * * *\n",
    "* * * * * * *\n"
   ]
  },
  {
   "cell_type": "code",
   "execution_count": null,
   "metadata": {},
   "outputs": [],
   "source": []
  }
 ],
 "metadata": {
  "kernelspec": {
   "display_name": "Python 2",
   "language": "python",
   "name": "python2"
  },
  "language_info": {
   "codemirror_mode": {
    "name": "ipython",
    "version": 2
   },
   "file_extension": ".py",
   "mimetype": "text/x-python",
   "name": "python",
   "nbconvert_exporter": "python",
   "pygments_lexer": "ipython2",
   "version": "2.7.16"
  }
 },
 "nbformat": 4,
 "nbformat_minor": 2
}
