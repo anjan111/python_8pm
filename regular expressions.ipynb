{
 "cells": [
  {
   "cell_type": "code",
   "execution_count": 2,
   "metadata": {},
   "outputs": [
    {
     "name": "stdout",
     "output_type": "stream",
     "text": [
      "<_sre.SRE_Match object at 0x000000000506C5E0>\n",
      "am\n"
     ]
    }
   ],
   "source": [
    "import re\n",
    "\n",
    "data = \"i am anjan kumar , i am doing AI research \"\n",
    "print re.search(r\"am\",data)\n",
    "print re.search(r\"am\",data).group()"
   ]
  },
  {
   "cell_type": "code",
   "execution_count": 4,
   "metadata": {},
   "outputs": [
    {
     "name": "stdout",
     "output_type": "stream",
     "text": [
      "None\n"
     ]
    }
   ],
   "source": [
    "import re\n",
    "\n",
    "data = \"i am anjan kumar , i am doing AI research \"\n",
    "print re.match(r\"am\",data)\n",
    "#print re.matchch(r\"am\",data).group()"
   ]
  },
  {
   "cell_type": "code",
   "execution_count": 6,
   "metadata": {},
   "outputs": [
    {
     "name": "stdout",
     "output_type": "stream",
     "text": [
      "<_sre.SRE_Match object at 0x00000000051AA988>\n",
      "am\n"
     ]
    }
   ],
   "source": [
    "import re\n",
    "\n",
    "data = \"am i am anjan kumar , i am doing AI research \"\n",
    "print re.match(r\"am\",data)\n",
    "print re.match(r\"am\",data).group()"
   ]
  },
  {
   "cell_type": "code",
   "execution_count": 7,
   "metadata": {},
   "outputs": [
    {
     "name": "stdout",
     "output_type": "stream",
     "text": [
      "['am', 'am']\n"
     ]
    }
   ],
   "source": [
    "import re\n",
    "\n",
    "data = \"i am anjan kumar , i am doing AI research \"\n",
    "print re.findall(r\"am\",data)\n"
   ]
  },
  {
   "cell_type": "code",
   "execution_count": 8,
   "metadata": {},
   "outputs": [
    {
     "name": "stdout",
     "output_type": "stream",
     "text": [
      "i   anjan kumar , i   doing AI research \n"
     ]
    }
   ],
   "source": [
    "import re\n",
    "\n",
    "data = \"i am anjan kumar , i am doing AI research \"\n",
    "print re.sub(r\"am\",\" \",data)\n"
   ]
  },
  {
   "cell_type": "code",
   "execution_count": 20,
   "metadata": {},
   "outputs": [
    {
     "name": "stdout",
     "output_type": "stream",
     "text": [
      "['ar ', 'arc']\n"
     ]
    }
   ],
   "source": [
    "# special character\n",
    "#   .  ---->> to match any single character\n",
    "import re\n",
    "\n",
    "data = \"i am anjan kumar , i am doing AI research a a2  a@ \"\n",
    "print re.findall(r\"ar.\",data)\n",
    "#print re.matchch(r\"am\",data).group()"
   ]
  },
  {
   "cell_type": "code",
   "execution_count": 22,
   "metadata": {},
   "outputs": [
    {
     "name": "stdout",
     "output_type": "stream",
     "text": [
      "['am', 'an', 'an', 'ar', 'am', 'ar', 'a ', 'a2']\n"
     ]
    }
   ],
   "source": [
    "# special character\n",
    "#   [a-zA-Z0-9!@#$%^]  ---->> to match any single character from that square \n",
    "import re\n",
    "\n",
    "data = \"i am anjan kumar , i am doing AI research a a2  a@ \"\n",
    "print re.findall(r\"a[a-z 0-9]\",data)\n",
    "#print re.matchch(r\"am\",data).group()"
   ]
  },
  {
   "cell_type": "code",
   "execution_count": 23,
   "metadata": {},
   "outputs": [
    {
     "name": "stdout",
     "output_type": "stream",
     "text": [
      "['ammm', 'a', 'a', 'amm', 'am', 'a', 'a', 'a', 'a']\n"
     ]
    }
   ],
   "source": [
    "# special character\n",
    "#   *  --->>> repeat  --->> 0 or more than 0\n",
    "import re\n",
    "\n",
    "data = \"i ammm  anjan kumammr , i am doing AI research a a2  a@ \"\n",
    "print re.findall(r\"am*\",data)\n",
    "#print re.matchch(r\"am\",data).group()"
   ]
  },
  {
   "cell_type": "code",
   "execution_count": 21,
   "metadata": {},
   "outputs": [
    {
     "name": "stdout",
     "output_type": "stream",
     "text": [
      "['i ', ' anjan kumar , i ', ' doing AI research a a2  a@ ']\n"
     ]
    }
   ],
   "source": [
    "# special character\n",
    "#   .  ---->> to match any single character\n",
    "import re\n",
    "\n",
    "data = \"i am anjan kumar , i am doing AI research a a2  a@ \"\n",
    "print re.split(r\"am\",data)\n",
    "#print re.matchch(r\"am\",data).group()"
   ]
  },
  {
   "cell_type": "code",
   "execution_count": 25,
   "metadata": {},
   "outputs": [
    {
     "name": "stdout",
     "output_type": "stream",
     "text": [
      "['ammm', 'amm', 'am']\n"
     ]
    }
   ],
   "source": [
    "# special character\n",
    "#   +  --->>> repeat  --->> 1 or more than 1\n",
    "import re\n",
    "\n",
    "data = \"i ammm  anjan kumammr , i am doing AI research a a2  a@ \"\n",
    "print re.findall(r\"am+\",data)\n",
    "#print re.matchch(r\"am\",data).group()"
   ]
  },
  {
   "cell_type": "code",
   "execution_count": 27,
   "metadata": {},
   "outputs": [
    {
     "name": "stdout",
     "output_type": "stream",
     "text": [
      "['am', 'a', 'a', 'am', 'am', 'a', 'a', 'a', 'a']\n"
     ]
    }
   ],
   "source": [
    "# special character\n",
    "#   ?  --->>> repeat  --->> 0 or more than 1\n",
    "import re\n",
    "\n",
    "data = \"i ammm  anjan kumammr , i am doing AI research a a2  a@ \"\n",
    "print re.findall(r\"am?\",data)\n",
    "#print re.matchch(r\"am\",data).group()"
   ]
  },
  {
   "cell_type": "code",
   "execution_count": 29,
   "metadata": {},
   "outputs": [
    {
     "name": "stdout",
     "output_type": "stream",
     "text": [
      "['a2', 'a1']\n"
     ]
    }
   ],
   "source": [
    "# special character\n",
    "#   \\d  --->>> matching single digit \n",
    "import re\n",
    "\n",
    "data = \"i ammm  anjan kumammr , i am doing AI research a a2  a@ a1 \"\n",
    "print re.findall(r\"a\\d\",data)\n",
    "#print re.matchch(r\"am\",data).group()"
   ]
  },
  {
   "cell_type": "code",
   "execution_count": 30,
   "metadata": {},
   "outputs": [
    {
     "name": "stdout",
     "output_type": "stream",
     "text": [
      "['am', 'an', 'an', 'am', 'am', 'ar', 'a ', 'a@']\n"
     ]
    }
   ],
   "source": [
    "# special character\n",
    "#   \\D  --->>> except digit match any single character\n",
    "import re\n",
    "\n",
    "data = \"i ammm  anjan kumammr , i am doing AI research a a2  a@ a1 \"\n",
    "print re.findall(r\"a\\D\",data)\n",
    "#print re.matchch(r\"am\",data).group()"
   ]
  },
  {
   "cell_type": "code",
   "execution_count": 31,
   "metadata": {},
   "outputs": [
    {
     "name": "stdout",
     "output_type": "stream",
     "text": [
      "['a ']\n"
     ]
    }
   ],
   "source": [
    "# special character\n",
    "#   \\s  --->>> matching single space \n",
    "import re\n",
    "\n",
    "data = \"i ammm  anjan kumammr , i am doing AI research a a2  a@ a1 \"\n",
    "print re.findall(r\"a\\s\",data)\n",
    "#print re.matchch(r\"am\",data).group()"
   ]
  },
  {
   "cell_type": "code",
   "execution_count": 32,
   "metadata": {},
   "outputs": [
    {
     "name": "stdout",
     "output_type": "stream",
     "text": [
      "['am', 'an', 'an', 'am', 'am', 'ar', 'a2', 'a@', 'a1']\n"
     ]
    }
   ],
   "source": [
    "# special character\n",
    "#   \\S  --->>> matching any single character except space\n",
    "import re\n",
    "\n",
    "data = \"i ammm  anjan kumammr , i am doing AI research a a2  a@ a1 \"\n",
    "print re.findall(r\"a\\S\",data)\n",
    "#print re.matchch(r\"am\",data).group()"
   ]
  },
  {
   "cell_type": "code",
   "execution_count": 33,
   "metadata": {},
   "outputs": [
    {
     "name": "stdout",
     "output_type": "stream",
     "text": [
      "['am', 'an', 'an', 'am', 'am', 'ar', 'a2', 'a1']\n"
     ]
    }
   ],
   "source": [
    "# special character\n",
    "#   \\w  --->>> matching single digit or alphabets\n",
    "import re\n",
    "\n",
    "data = \"i ammm  anjan kumammr , i am doing AI research a a2  a@ a1 \"\n",
    "print re.findall(r\"a\\w\",data)\n",
    "#print re.matchch(r\"am\",data).group()"
   ]
  },
  {
   "cell_type": "code",
   "execution_count": 34,
   "metadata": {},
   "outputs": [
    {
     "name": "stdout",
     "output_type": "stream",
     "text": [
      "['a ', 'a@']\n"
     ]
    }
   ],
   "source": [
    "# special character\n",
    "#   \\W  --->>> except digits and alphabets match any single character\n",
    "import re\n",
    "\n",
    "data = \"i ammm  anjan kumammr , i am doing AI research a a2  a@ a1 \"\n",
    "print re.findall(r\"a\\W\",data)\n",
    "#print re.matchch(r\"am\",data).group()"
   ]
  },
  {
   "cell_type": "code",
   "execution_count": 35,
   "metadata": {},
   "outputs": [
    {
     "name": "stdout",
     "output_type": "stream",
     "text": [
      "['ammm', 'ammm']\n"
     ]
    }
   ],
   "source": [
    "# special character\n",
    "#   {n}  --->>> preceeding character repeats exactly n times \n",
    "import re\n",
    "\n",
    "data = \"i ammm  anjan kumammr , i am doing AI research ammm a2  a@ a1 \"\n",
    "print re.findall(r\"am{3}\",data)\n",
    "#print re.matchch(r\"am\",data).group()"
   ]
  },
  {
   "cell_type": "code",
   "execution_count": 37,
   "metadata": {},
   "outputs": [
    {
     "name": "stdout",
     "output_type": "stream",
     "text": [
      "['ammm', 'amm']\n"
     ]
    }
   ],
   "source": [
    "# special character\n",
    "#   {m,n}  --->>> preceeding characters repeats n times  to m \n",
    "import re\n",
    "\n",
    "data = \"i ammm  anjan kumammr , i am doing AI research a a2  a@ a1 \"\n",
    "print re.findall(r\"am{2,3}\",data)\n",
    "#print re.matchch(r\"am\",data).group()"
   ]
  },
  {
   "cell_type": "code",
   "execution_count": 51,
   "metadata": {},
   "outputs": [
    {
     "name": "stdout",
     "output_type": "stream",
     "text": [
      "['9640987960']\n",
      "['anjan@gmail.com']\n"
     ]
    }
   ],
   "source": [
    "# wap find the phone number and mail id \n",
    "data  = \"d j kjvvv v 9640987960 fjjf 834384 fjfn  anjan@gmail.comfjbf\"\n",
    "print re.findall(r'\\d{10}',data)\n",
    "print re.findall(r'\\w*@.*.com',data)"
   ]
  },
  {
   "cell_type": "code",
   "execution_count": 52,
   "metadata": {},
   "outputs": [
    {
     "name": "stdout",
     "output_type": "stream",
     "text": [
      "['the', 'the']\n"
     ]
    }
   ],
   "source": [
    "data = \"the quick brown fox jumps over the lazy dog.\"\n",
    "print re.findall(r't[a-zA-z]*',data)"
   ]
  },
  {
   "cell_type": "code",
   "execution_count": null,
   "metadata": {},
   "outputs": [],
   "source": []
  },
  {
   "cell_type": "code",
   "execution_count": null,
   "metadata": {},
   "outputs": [],
   "source": []
  },
  {
   "cell_type": "code",
   "execution_count": null,
   "metadata": {},
   "outputs": [],
   "source": []
  },
  {
   "cell_type": "code",
   "execution_count": null,
   "metadata": {},
   "outputs": [],
   "source": []
  },
  {
   "cell_type": "code",
   "execution_count": null,
   "metadata": {},
   "outputs": [],
   "source": []
  },
  {
   "cell_type": "code",
   "execution_count": null,
   "metadata": {},
   "outputs": [],
   "source": []
  },
  {
   "cell_type": "code",
   "execution_count": null,
   "metadata": {},
   "outputs": [],
   "source": []
  },
  {
   "cell_type": "code",
   "execution_count": null,
   "metadata": {},
   "outputs": [],
   "source": []
  },
  {
   "cell_type": "code",
   "execution_count": null,
   "metadata": {},
   "outputs": [],
   "source": []
  },
  {
   "cell_type": "code",
   "execution_count": null,
   "metadata": {},
   "outputs": [],
   "source": []
  },
  {
   "cell_type": "code",
   "execution_count": null,
   "metadata": {},
   "outputs": [],
   "source": []
  },
  {
   "cell_type": "code",
   "execution_count": null,
   "metadata": {},
   "outputs": [],
   "source": []
  },
  {
   "cell_type": "code",
   "execution_count": null,
   "metadata": {},
   "outputs": [],
   "source": []
  },
  {
   "cell_type": "code",
   "execution_count": null,
   "metadata": {},
   "outputs": [],
   "source": []
  },
  {
   "cell_type": "code",
   "execution_count": null,
   "metadata": {},
   "outputs": [],
   "source": []
  },
  {
   "cell_type": "code",
   "execution_count": null,
   "metadata": {},
   "outputs": [],
   "source": []
  },
  {
   "cell_type": "code",
   "execution_count": null,
   "metadata": {},
   "outputs": [],
   "source": []
  },
  {
   "cell_type": "code",
   "execution_count": null,
   "metadata": {},
   "outputs": [],
   "source": []
  }
 ],
 "metadata": {
  "kernelspec": {
   "display_name": "Python 2",
   "language": "python",
   "name": "python2"
  },
  "language_info": {
   "codemirror_mode": {
    "name": "ipython",
    "version": 2
   },
   "file_extension": ".py",
   "mimetype": "text/x-python",
   "name": "python",
   "nbconvert_exporter": "python",
   "pygments_lexer": "ipython2",
   "version": "2.7.16"
  }
 },
 "nbformat": 4,
 "nbformat_minor": 2
}
