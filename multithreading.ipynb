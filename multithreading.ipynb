{
 "cells": [
  {
   "cell_type": "markdown",
   "metadata": {},
   "source": [
    "# multithreading \n",
    "\n",
    "===>>> Process \n",
    "==============\n",
    "\n",
    "===>>> A program which is in execution mode\n",
    "\n",
    "# Multiprocess :-\n",
    "\n",
    "===>>> A cpu can do multiple task at a time\n",
    "\n",
    "\n",
    "===>> Thread :-\n",
    "---------------------\n",
    "\n",
    "===>>> Thread is a part of the process\n",
    "\n",
    "===>>>  process and thread both are executed parallely\n",
    "\n",
    "===>>> Thread is used for to multiple tasks at time \n",
    "\n",
    "===>>> With in the same program we have multiple threads\n"
   ]
  },
  {
   "cell_type": "code",
   "execution_count": 1,
   "metadata": {},
   "outputs": [
    {
     "name": "stdout",
     "output_type": "stream",
     "text": [
      "start time :  1572360311.59\n",
      "name  :  anjan\n",
      "name  :  anjan\n",
      "name  :  anjan\n",
      "name  :  anjan\n",
      "name  :  anjan\n",
      "name  :  anjan\n",
      "name  :  anjan\n",
      "name  :  anjan\n",
      "name  :  anjan\n",
      "name  :  anjan\n",
      "******\n",
      "name  :  anusha\n",
      "name  :  anusha\n",
      "name  :  anusha\n",
      "name  :  anusha\n",
      "name  :  anusha\n",
      "name  :  anusha\n",
      "name  :  anusha\n",
      "name  :  anusha\n",
      "name  :  anusha\n",
      "name  :  anusha\n",
      "stop :  1572360331.62\n"
     ]
    }
   ],
   "source": [
    "from time import sleep,time\n",
    "print \"start time : \",time()\n",
    "def fun1(name =None):\n",
    "    for i in range(10):\n",
    "        print \"name  : \",name \n",
    "        sleep(1)\n",
    "def main():\n",
    "    fun1(\"anjan\")\n",
    "    print \"******\"\n",
    "    fun1(\"anusha\")\n",
    "    \n",
    "main()\n",
    "print \"stop : \",time()\n"
   ]
  },
  {
   "cell_type": "code",
   "execution_count": 5,
   "metadata": {},
   "outputs": [
    {
     "name": "stdout",
     "output_type": "stream",
     "text": [
      "start time :  1572361494.43\n",
      "****** \n",
      "name  :  stop : anjan\n",
      " 1572361494.44\n",
      "name  :  anusha\n",
      "name  :  anjan\n",
      "name  :  anusha\n",
      "name  :  anjan\n",
      "name  :  anusha\n",
      "name  :  anjan\n",
      "name  :  anusha\n",
      "name  :  anjan\n",
      "name  :  anusha\n",
      "name  :  anjan\n",
      "name  :  anusha\n",
      "name  :  anjan\n",
      "name  :  anusha\n",
      "name  :  anjan\n",
      "name  :  anusha\n",
      "name  :  anjan\n",
      "name  :  anusha\n",
      "name  :  anjan\n",
      "name  :  anusha\n"
     ]
    }
   ],
   "source": [
    "from time import sleep,time\n",
    "import thread\n",
    "print \"start time : \",time()\n",
    "def fun1(name =None):\n",
    "    for i in range(10):\n",
    "        print \"name  : \",name \n",
    "        #sleep(0.5)\n",
    "def main():\n",
    "    thread.start_new_thread(fun1,(\"anjan\",))\n",
    "    print \"******\"\n",
    "    thread.start_new_thread(fun1,(\"anusha\",))\n",
    "    \n",
    "main()\n",
    "print \"stop : \",time()"
   ]
  },
  {
   "cell_type": "code",
   "execution_count": null,
   "metadata": {},
   "outputs": [],
   "source": []
  },
  {
   "cell_type": "code",
   "execution_count": null,
   "metadata": {},
   "outputs": [],
   "source": []
  },
  {
   "cell_type": "code",
   "execution_count": null,
   "metadata": {},
   "outputs": [],
   "source": []
  },
  {
   "cell_type": "code",
   "execution_count": null,
   "metadata": {},
   "outputs": [],
   "source": []
  }
 ],
 "metadata": {
  "kernelspec": {
   "display_name": "Python 2",
   "language": "python",
   "name": "python2"
  },
  "language_info": {
   "codemirror_mode": {
    "name": "ipython",
    "version": 2
   },
   "file_extension": ".py",
   "mimetype": "text/x-python",
   "name": "python",
   "nbconvert_exporter": "python",
   "pygments_lexer": "ipython2",
   "version": "2.7.16"
  }
 },
 "nbformat": 4,
 "nbformat_minor": 2
}
